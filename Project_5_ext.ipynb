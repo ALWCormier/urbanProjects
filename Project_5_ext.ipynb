{
 "cells": [
  {
   "cell_type": "markdown",
   "metadata": {},
   "source": [
    "Setup"
   ]
  },
  {
   "cell_type": "code",
   "execution_count": 1,
   "metadata": {
    "collapsed": true
   },
   "outputs": [],
   "source": [
    "import nltk \n",
    "import pandas as pd\n",
    "from nltk.tokenize import RegexpTokenizer\n",
    "from nltk.stem.wordnet import WordNetLemmatizer\n",
    "lmtzr = WordNetLemmatizer()\n",
    "df = pd.read_csv(\"Project5_data.csv\")\n",
    "\n",
    "#df = df.head(150) #number of rows you want to use\n",
    " \n",
    "df = df.iloc[:,0]"
   ]
  },
  {
   "cell_type": "markdown",
   "metadata": {},
   "source": [
    "The main function"
   ]
  },
  {
   "cell_type": "code",
   "execution_count": 2,
   "metadata": {},
   "outputs": [],
   "source": [
    "\n",
    "cat = []\n",
    "\n",
    "#loop through each complaint\n",
    "\n",
    "for item in df:\n",
    "#if (1 == 1):\n",
    "    df_temp = []\n",
    "    \n",
    "    #split comaplaint by word and remove punctuation\n",
    "    \n",
    "    tokenizer = RegexpTokenizer(r'\\w+')\n",
    "    item = tokenizer.tokenize(item)\n",
    "    \n",
    "    #stem/lemmative words\n",
    "    \n",
    "    for word in item:\n",
    "        word = word.lower()\n",
    "        word = lmtzr.lemmatize(word)\n",
    "        df_temp.append(word)\n",
    "        \n",
    "    #check for keywords in complaints  \n",
    "        \n",
    "    if (\"credit\" in df_temp):\n",
    "        if(\"score\" or \"card\" or \"report\" in df_temp):\n",
    "            cat.append(\"Credit Card/Report\")\n",
    "    elif (\"card\" in df_temp):\n",
    "        cat.append(\"Credit Card/Report\")\n",
    "    elif ('mortgage' in df_temp):\n",
    "        cat.append(\"Mortgage\")\n",
    "    elif (\"vehicle\" in df_temp):\n",
    "        cat.append(\"Vehicle\")\n",
    "    elif (\"checking\" and \"account\" in df_temp):\n",
    "        cat.append('Bank Account')\n",
    "    elif (\"debt\" in df_temp):\n",
    "        cat.append(\"Debt\")\n",
    "    elif (\"loan\" in df_temp):\n",
    "        cat.append(\"Loans\")\n",
    "    elif (\"money\" in df_temp):\n",
    "        cx = 0\n",
    "        check = 0\n",
    "        for x in df_temp:\n",
    "            if (x == \"money\"):\n",
    "                cx += 1\n",
    "                if (len(df_temp) < cx):\n",
    "                    if (df_temp[cx] == \"order\"):\n",
    "                        if (check == 0):\n",
    "                            cat.append(\"Loans\")\n",
    "                            check += 1               \n",
    "            else:\n",
    "                cx += 1\n",
    "        if(check == 0):\n",
    "            cat.append(\"Misc.\")    \n",
    "    else:\n",
    "        cat.append(\"Misc.\")               \n",
    "   \n",
    "    \n",
    "            \n",
    "    "
   ]
  },
  {
   "cell_type": "markdown",
   "metadata": {},
   "source": [
    "Display Dataframe"
   ]
  },
  {
   "cell_type": "code",
   "execution_count": 3,
   "metadata": {},
   "outputs": [
    {
     "name": "stdout",
     "output_type": "stream",
     "text": [
      "                                      Complaint Narrative            Category\n",
      "0       Started the refinance of home mortgage process...            Mortgage\n",
      "1       My wife and I visited the Chase Bank branch at...        Bank Account\n",
      "2       The service representative was harsh and not l...                Debt\n",
      "3       I have documentation that shows that US Bank w...  Credit Card/Report\n",
      "4       Around XX/XX/XXXX I accepted a credit card off...  Credit Card/Report\n",
      "5       XXXX has wrongfully placed an account in colle...  Credit Card/Report\n",
      "6       i gave a vehicle away signed a bill of sale an...             Vehicle\n",
      "7       I have leased a vehicle XX/XX/2015 from an aut...             Vehicle\n",
      "8       Winn Law group continues to pursue me on a deb...                Debt\n",
      "9       In XX/XX/2005 I obtained a home equity mortgag...            Mortgage\n",
      "10      I have written to this company called Swiss Co...  Credit Card/Report\n",
      "11      I filed for chapter XXXX bankruptcy XX/XX/2011...  Credit Card/Report\n",
      "12      I have been deprived of my income as Bank of A...        Bank Account\n",
      "13      Ally Bank turned me down for deceased relative...  Credit Card/Report\n",
      "14      I 've sent multiple letters to this agency abo...        Bank Account\n",
      "15      I am being sued for Non-Payment, but all payme...                Debt\n",
      "16      I have not been contacted about this negative ...  Credit Card/Report\n",
      "17      I submitted a complaint in XX/XX/XXXX regardin...  Credit Card/Report\n",
      "18      I bought a money order from XXXX XXXX to pay a...               Misc.\n",
      "19      XXXX NAVIENT ACCT # XXXX Exactly what you foun...               Loans\n",
      "20      My business debit cards were stolen from my ma...  Credit Card/Report\n",
      "21      Central Financial Control did not give proper ...  Credit Card/Report\n",
      "22      I originally contacted ARS in XX/XX/XXXX to pl...  Credit Card/Report\n",
      "23      Dear XXXX Staff, XXXX bankruptcy filed in XX/X...  Credit Card/Report\n",
      "24      I applied for a MasterCard through Barclaycard...  Credit Card/Report\n",
      "25      I have paid the entire balance off of this car...  Credit Card/Report\n",
      "26      THIS COLLECTION AGENCY IS CONTINUING TO TRY TO...                Debt\n",
      "27      I 've called every day for the last 4 days, an...        Bank Account\n",
      "28      Moneygram is applying arbitrary rules to block...               Misc.\n",
      "29      I contacted a representative of Key Bank about...  Credit Card/Report\n",
      "...                                                   ...                 ...\n",
      "166118  I have never received a letter or been called ...  Credit Card/Report\n",
      "166119  Amazon said I would get {$50.00} if I applied ...  Credit Card/Report\n",
      "166120  A collection company sent a letter stating tha...  Credit Card/Report\n",
      "166121  I was customer with T mobile # XXXX XXXX promi...               Misc.\n",
      "166122  SUNBELT CREDITXXXX XXXX XXXX, XXXXThis company...  Credit Card/Report\n",
      "166123  I do not owe this company any money. I never r...               Misc.\n",
      "166124  United Revenue Corp continues to NOT provide p...  Credit Card/Report\n",
      "166125  In XX/XX/XXXX my mother and I purchased a XX/X...        Bank Account\n",
      "166126  I 'm attempting to refinance my mortgage to pa...            Mortgage\n",
      "166127  I have applied for loan modification with Bank...            Mortgage\n",
      "166128  We have been trying to get a hold of Nationsta...            Mortgage\n",
      "166129  In XXXX this account was sold to Santander Con...             Vehicle\n",
      "166130  XXXX Transaction : Thru XXXX. {$1200.00}. \\nIt...        Bank Account\n",
      "166131  I never heard of said debit till I checked my ...  Credit Card/Report\n",
      "166132  I received a copy of my credit report, and fou...  Credit Card/Report\n",
      "166133  Received call from ( XXXX ) XXXX and msg indic...                Debt\n",
      "166134  I 'm trying to buy a house so the mortgage com...  Credit Card/Report\n",
      "166135  I would like copy of contract with my authenti...                Debt\n",
      "166136  I took out a mortgage with PHH Mortgage to pur...            Mortgage\n",
      "166137  I signed up for a Macy 's credit card in XXXX ...  Credit Card/Report\n",
      "166138  Several years ago our mortgage was sold and wh...            Mortgage\n",
      "166139  Comerica Bank ( XXXX Bank ) Embezzlement consp...  Credit Card/Report\n",
      "166140  I took out a XXXX Chase credit card. The card ...  Credit Card/Report\n",
      "166141  I had a debit that was included in my chapter ...  Credit Card/Report\n",
      "166142  I was in a XXXX XXXX Bankruptcy which just dis...  Credit Card/Report\n",
      "166143  I 've disputed 5 times already with TransUnion...  Credit Card/Report\n",
      "166144  i have contacted Exqufax numerous times in the...  Credit Card/Report\n",
      "166145  On XXXX XXXX, 2016 at around XXXX, I submitted...        Bank Account\n",
      "166146  I am outraged that Trans Union continues to re...        Bank Account\n",
      "166147  After buying a home in 2004, the mortgage even...            Mortgage\n",
      "\n",
      "[166148 rows x 2 columns]\n"
     ]
    }
   ],
   "source": [
    "i = range(len(df))\n",
    "df1 = pd.DataFrame({'Complaint Narrative': df}, index=i)\n",
    "df1 = df1.assign(Category=pd.Series(cat))\n",
    "print(df1)"
   ]
  }
 ],
 "metadata": {
  "kernelspec": {
   "display_name": "Python 3",
   "language": "python",
   "name": "python3"
  },
  "language_info": {
   "codemirror_mode": {
    "name": "ipython",
    "version": 3
   },
   "file_extension": ".py",
   "mimetype": "text/x-python",
   "name": "python",
   "nbconvert_exporter": "python",
   "pygments_lexer": "ipython3",
   "version": "3.6.1"
  }
 },
 "nbformat": 4,
 "nbformat_minor": 2
}
